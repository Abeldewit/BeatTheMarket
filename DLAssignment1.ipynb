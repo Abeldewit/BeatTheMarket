{
 "nbformat": 4,
 "nbformat_minor": 0,
 "metadata": {
  "colab": {
   "name": "DLAssignment1.ipynb",
   "provenance": [],
   "collapsed_sections": []
  },
  "kernelspec": {
   "name": "python3",
   "language": "python",
   "display_name": "Python 3"
  },
  "pycharm": {
   "stem_cell": {
    "cell_type": "raw",
    "source": [],
    "metadata": {
     "collapsed": false
    }
   }
  }
 },
 "cells": [
  {
   "cell_type": "markdown",
   "metadata": {
    "id": "7n4Sm6iIYQwK",
    "colab_type": "text"
   },
   "source": [
    "# Deep Learning\n",
    "## Assignment 1 - Beat the market\n",
    "### Abel de Wit & Malin Hjärtström\n"
   ]
  },
  {
   "cell_type": "code",
   "metadata": {
    "id": "BqPj-NbDcnZp",
    "colab_type": "code",
    "outputId": "4d9038ed-3e10-44da-b298-a539fb0d47d2",
    "colab": {
     "base_uri": "https://localhost:8080/",
     "height": 35
    },
    "pycharm": {
     "is_executing": false
    }
   },
   "source": [
    "# Getting the data (commented for local use)\n",
    "# from google.colab import drive\n",
    "# drive.mount('/content/drive', force_remount=True)"
   ],
   "execution_count": 18,
   "outputs": []
  },
  {
   "cell_type": "code",
   "metadata": {
    "id": "1ixezF29RbNx",
    "colab_type": "code",
    "outputId": "ba5e021e-7051-4920-87ae-86fcc15a2919",
    "colab": {
     "base_uri": "https://localhost:8080/",
     "height": 35
    },
    "pycharm": {
     "is_executing": false
    }
   },
   "source": [
    "import pandas as pd\n",
    "from keras.models import Sequential\n",
    "from keras.layers import Dense\n",
    "from keras.optimizers import RMSprop"
   ],
   "execution_count": 19,
   "outputs": []
  },
  {
   "cell_type": "code",
   "metadata": {
    "id": "dmBuIpD_dav-",
    "colab_type": "code",
    "outputId": "3faec649-352a-461f-8a47-0eae11bb7cca",
    "colab": {
     "base_uri": "https://localhost:8080/",
     "height": 397
    },
    "pycharm": {
     "is_executing": false
    }
   },
   "source": [
    "info_data = pd.read_csv(\"data/info.txt\", sep='\\s+')\n",
    "market_analysis = pd.read_csv(\"data/market_analysis.txt\", sep='\\s+')\n",
    "market_segments = pd.read_csv(\"data/market_segments.txt\", sep='\\s+')\n",
    "stock_prices = pd.read_csv(\"data/stock_prices.txt\", sep='\\s+')"
   ],
   "execution_count": 27,
   "outputs": [
    {
     "data": {
      "text/plain": "<matplotlib.axes._subplots.AxesSubplot at 0x1a3e64a690>"
     },
     "metadata": {},
     "output_type": "execute_result",
     "execution_count": 27
    }
   ]
  },
  {
   "cell_type": "code",
   "metadata": {
    "id": "1fILV-UnUnx-",
    "colab_type": "code",
    "outputId": "55f5ca54-2a7c-4169-a68a-1da326d08514",
    "colab": {
     "base_uri": "https://localhost:8080/",
     "height": 397
    },
    "pycharm": {
     "is_executing": false,
     "name": "#%%\n"
    }
   },
   "source": [
    "# Do something with all our data so we can feed it to the NN\n",
    "dataframe = info_data\n",
    "\n",
    "# 'One hot encoding' the segments\n",
    "dataframe[\"IT\"] = dataframe['company'].apply(lambda x: 0 if x == 1 else 1)\n",
    "dataframe[\"BIO\"] = dataframe['company'].apply(lambda x: 1 if x == 1 else 0)\n",
    "dataframe[\"trend\"] = market_analysis['trend']\n",
    "\n",
    "# For now we dont use some data\n",
    "del dataframe['sentiment']\n",
    "del dataframe['m1']\n",
    "del dataframe['m2']\n",
    "del dataframe['m3']\n",
    "del dataframe['m4']\n",
    "\n",
    "\n",
    "X = dataframe #give it nice names\n",
    "y = stock_prices['stock-price']\n",
    "\n",
    "print(X.head(10))\n",
    "print(y.head(10))"
   ],
   "execution_count": 23,
   "outputs": [
    {
     "name": "stdout",
     "text": [
      "   company  year  day  quarter  expert1  expert2  IT  BIO  trend\n0        0  2017    3        0        0        0   1    0    0.0\n1        0  2017    4        0        0        1   1    0    0.0\n2        0  2017    5        0        0        1   1    0   -1.0\n3        0  2017    6        0        0        1   1    0   -1.0\n4        0  2017    9        0        0        1   1    0    0.0\n5        0  2017   10        0        1        1   1    0   -1.0\n6        0  2017   11        0        1        1   1    0   -1.0\n7        0  2017   12        0        1        0   1    0    1.0\n8        0  2017   13        0        1        1   1    0   -1.0\n9        0  2017   17        0        1        1   1    0   -1.0\n0    102.2\n1    102.2\n2    102.2\n3    102.2\n4    102.2\n5    104.3\n6    106.8\n7    106.8\n8    108.9\n9    108.9\nName: stock-price, dtype: float64\n"
     ],
     "output_type": "stream"
    }
   ]
  },
  {
   "cell_type": "code",
   "execution_count": 25,
   "outputs": [],
   "source": [
    "# Now we split it all 80/20\n",
    "from sklearn.model_selection import train_test_split\n",
    "X_train, X_test, y_train, y_test = train_test_split(X, y, test_size = 0.2, random_state = 0)"
   ],
   "metadata": {
    "collapsed": false,
    "pycharm": {
     "name": "#%%\n",
     "is_executing": false
    }
   }
  },
  {
   "cell_type": "code",
   "execution_count": null,
   "outputs": [],
   "source": [
    "\n"
   ],
   "metadata": {
    "collapsed": false,
    "pycharm": {
     "name": "#%%\n"
    }
   }
  }
 ]
}