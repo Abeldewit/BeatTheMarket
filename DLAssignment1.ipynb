{
  "nbformat": 4,
  "nbformat_minor": 0,
  "metadata": {
    "colab": {
      "name": "DLAssignment1.ipynb",
      "provenance": [],
      "collapsed_sections": []
    },
    "kernelspec": {
      "name": "python3",
      "display_name": "Python 3"
    }
  },
  "cells": [
    {
      "cell_type": "markdown",
      "metadata": {
        "id": "7n4Sm6iIYQwK",
        "colab_type": "text"
      },
      "source": [
        "# Deep Learning\n",
        "## Assignment 1 - Beat the market\n",
        "### Abel de Wit & Malin Hjärtström\n"
      ]
    },
    {
      "cell_type": "code",
      "metadata": {
        "id": "BqPj-NbDcnZp",
        "colab_type": "code",
        "outputId": "4d9038ed-3e10-44da-b298-a539fb0d47d2",
        "colab": {
          "base_uri": "https://localhost:8080/",
          "height": 35
        }
      },
      "source": [
        "#Getting the data\n",
        "from google.colab import drive\n",
        "import pandas as pd\n",
        "drive.mount('/content/drive', force_remount=True)"
      ],
      "execution_count": 0,
      "outputs": [
        {
          "output_type": "stream",
          "text": [
            "Mounted at /content/drive\n"
          ],
          "name": "stdout"
        }
      ]
    },
    {
      "cell_type": "code",
      "metadata": {
        "id": "1ixezF29RbNx",
        "colab_type": "code",
        "outputId": "ba5e021e-7051-4920-87ae-86fcc15a2919",
        "colab": {
          "base_uri": "https://localhost:8080/",
          "height": 35
        }
      },
      "source": [
        "from keras.models import Sequential\n",
        "from keras.layers import Dense\n",
        "from keras.optimizers import RMSprop"
      ],
      "execution_count": 0,
      "outputs": [
        {
          "output_type": "stream",
          "text": [
            "Using TensorFlow backend.\n"
          ],
          "name": "stderr"
        }
      ]
    },
    {
      "cell_type": "code",
      "metadata": {
        "id": "dmBuIpD_dav-",
        "colab_type": "code",
        "outputId": "3faec649-352a-461f-8a47-0eae11bb7cca",
        "colab": {
          "base_uri": "https://localhost:8080/",
          "height": 397
        }
      },
      "source": [
        "# #Reading the data\n",
        "# def read_stock_prices(stocks):\n",
        "#   with open(\"/content/drive/My Drive/Colab Notebooks/Assignment 1/data/stock_prices.txt\") as f: #Insert way to data\n",
        "#     for line in f:\n",
        "#       #print(line)\n",
        "#       fields = line.split()\n",
        "#       #print(fields)\n",
        "#       #Wants to have the data in a record and not in a list\n",
        "#       record = (int(fields[0]),\n",
        "#                 int(fields[1]), \n",
        "#                 int(fields[2]),\n",
        "#                 int(fields[3]),\n",
        "#                 float(fields[4]))\n",
        "#       #print(records)\n",
        "#       #Wants the first 4 to be ints and the 5th as float, which is the case\n",
        "#       #Create a list of records\n",
        "#       stocks.append(record)\n",
        "\n",
        "# stock_prices_0 = []\n",
        "# read_stock_prices(stock_prices_0)  \n",
        "\n",
        "info_data = pd.read_csv(\"/content/drive/My Drive/Colab Notebooks/Assignment 1/data/info.txt\", sep='\\s+')\n",
        "market_analysis = pd.read_csv(\"/content/drive/My Drive/Colab Notebooks/Assignment 1/data/market_analysis.txt\", sep='\\s+')\n",
        "market_segments = pd.read_csv(\"/content/drive/My Drive/Colab Notebooks/Assignment 1/data/market_segments.txt\", sep='\\s+')\n",
        "stock_prices = pd.read_csv(\"/content/drive/My Drive/Colab Notebooks/Assignment 1/data/stock_prices.txt\", sep='\\s+')\n",
        "\n",
        "print(info_data.head())\n",
        "print(market_analysis.head())\n",
        "print(market_segments.head())\n",
        "print(stock_prices.head())\n"
      ],
      "execution_count": 0,
      "outputs": [
        {
          "output_type": "stream",
          "text": [
            "   company  year  day  quarter  expert1  expert2  sentiment   m1    m2   m3  m4\n",
            "0        0  2017    3        0        0        0         10  6.3  1824 -1.0   0\n",
            "1        0  2017    4        0        0        1         10  5.1  6912 -0.9   0\n",
            "2        0  2017    5        0        0        1         10  6.6  8928  0.3   0\n",
            "3        0  2017    6        0        0        1         10  7.8  6924  0.0   0\n",
            "4        0  2017    9        0        0        1         10 -0.9  5635  0.9   0\n",
            "  segment  year  quarter  trend\n",
            "0      IT  2016        3      0\n",
            "1      IT  2017        0      0\n",
            "2      IT  2017        1     -1\n",
            "3      IT  2017        2     -1\n",
            "4      IT  2017        3      0\n",
            "   company segment\n",
            "0        0      IT\n",
            "1        1     BIO\n",
            "2        2      IT\n",
            "   company  year  day  quarter  stock-price\n",
            "0        0  2017    3        0        102.2\n",
            "1        0  2017    4        0        102.2\n",
            "2        0  2017    5        0        102.2\n",
            "3        0  2017    6        0        102.2\n",
            "4        0  2017    9        0        102.2\n"
          ],
          "name": "stdout"
        }
      ]
    },
    {
      "cell_type": "code",
      "metadata": {
        "id": "1fILV-UnUnx-",
        "colab_type": "code",
        "outputId": "55f5ca54-2a7c-4169-a68a-1da326d08514",
        "colab": {
          "base_uri": "https://localhost:8080/",
          "height": 397
        }
      },
      "source": [
        "# Do something with all our data so we can feed it to the NN\n",
        "dataframe = info_data\n",
        "\n",
        "# 'One hot encoding' the segments\n",
        "dataframe[\"IT\"] = dataframe['company'].apply(lambda x: 0 if x == 1 else 1)\n",
        "dataframe[\"BIO\"] = dataframe['company'].apply(lambda x: 1 if x == 1 else 0)\n",
        "dataframe[\"trend\"] = market_analysis['trend']\n",
        "\n",
        "# For now we dont use some data\n",
        "del dataframe['sentiment']\n",
        "del dataframe['m1']\n",
        "del dataframe['m2']\n",
        "del dataframe['m3']\n",
        "del dataframe['m4']\n",
        "\n",
        "\n",
        "X = dataframe #give it nice names\n",
        "y = stock_prices['stock-price']\n",
        "\n",
        "print(X.head(10))\n",
        "print(y.head(10))"
      ],
      "execution_count": 0,
      "outputs": [
        {
          "output_type": "stream",
          "text": [
            "   company  year  day  quarter  expert1  expert2  IT  BIO  trend\n",
            "0        0  2017    3        0        0        0   1    0    0.0\n",
            "1        0  2017    4        0        0        1   1    0    0.0\n",
            "2        0  2017    5        0        0        1   1    0   -1.0\n",
            "3        0  2017    6        0        0        1   1    0   -1.0\n",
            "4        0  2017    9        0        0        1   1    0    0.0\n",
            "5        0  2017   10        0        1        1   1    0   -1.0\n",
            "6        0  2017   11        0        1        1   1    0   -1.0\n",
            "7        0  2017   12        0        1        0   1    0    1.0\n",
            "8        0  2017   13        0        1        1   1    0   -1.0\n",
            "9        0  2017   17        0        1        1   1    0   -1.0\n",
            "0    102.2\n",
            "1    102.2\n",
            "2    102.2\n",
            "3    102.2\n",
            "4    102.2\n",
            "5    104.3\n",
            "6    106.8\n",
            "7    106.8\n",
            "8    108.9\n",
            "9    108.9\n",
            "Name: stock-price, dtype: float64\n"
          ],
          "name": "stdout"
        }
      ]
    },
    {
      "cell_type": "code",
      "metadata": {
        "id": "D1-SNe9XiM-p",
        "colab_type": "code",
        "colab": {}
      },
      "source": [
        ""
      ],
      "execution_count": 0,
      "outputs": []
    },
    {
      "cell_type": "code",
      "metadata": {
        "id": "B108c8wsRth2",
        "colab_type": "code",
        "outputId": "68426c32-2b58-4137-9aa2-030c87831b22",
        "colab": {
          "base_uri": "https://localhost:8080/",
          "height": 358
        }
      },
      "source": [
        "model = Sequential()\n",
        "model.add(Dense(512, activation='relu', input_shape=(784,)) ) #adding the first layer (a dense layer sith 512 neurons)\n",
        "model.add(Dense(num_classes, activation='softmax') ) \n",
        "model.summary()\n",
        "model.compile(loss='categorical_crossentropy',\n",
        "              optimizer=RMSprop(),\n",
        "              metrics=['accuracy']) "
      ],
      "execution_count": 0,
      "outputs": [
        {
          "output_type": "stream",
          "text": [
            "WARNING:tensorflow:From /usr/local/lib/python3.6/dist-packages/keras/backend/tensorflow_backend.py:66: The name tf.get_default_graph is deprecated. Please use tf.compat.v1.get_default_graph instead.\n",
            "\n",
            "WARNING:tensorflow:From /usr/local/lib/python3.6/dist-packages/keras/backend/tensorflow_backend.py:541: The name tf.placeholder is deprecated. Please use tf.compat.v1.placeholder instead.\n",
            "\n",
            "WARNING:tensorflow:From /usr/local/lib/python3.6/dist-packages/keras/backend/tensorflow_backend.py:4432: The name tf.random_uniform is deprecated. Please use tf.random.uniform instead.\n",
            "\n"
          ],
          "name": "stdout"
        },
        {
          "output_type": "error",
          "ename": "NameError",
          "evalue": "ignored",
          "traceback": [
            "\u001b[0;31m---------------------------------------------------------------------------\u001b[0m",
            "\u001b[0;31mNameError\u001b[0m                                 Traceback (most recent call last)",
            "\u001b[0;32m<ipython-input-5-e31be0bdf52d>\u001b[0m in \u001b[0;36m<module>\u001b[0;34m()\u001b[0m\n\u001b[1;32m      1\u001b[0m \u001b[0mmodel\u001b[0m \u001b[0;34m=\u001b[0m \u001b[0mSequential\u001b[0m\u001b[0;34m(\u001b[0m\u001b[0;34m)\u001b[0m\u001b[0;34m\u001b[0m\u001b[0;34m\u001b[0m\u001b[0m\n\u001b[1;32m      2\u001b[0m \u001b[0mmodel\u001b[0m\u001b[0;34m.\u001b[0m\u001b[0madd\u001b[0m\u001b[0;34m(\u001b[0m\u001b[0mDense\u001b[0m\u001b[0;34m(\u001b[0m\u001b[0;36m512\u001b[0m\u001b[0;34m,\u001b[0m \u001b[0mactivation\u001b[0m\u001b[0;34m=\u001b[0m\u001b[0;34m'relu'\u001b[0m\u001b[0;34m,\u001b[0m \u001b[0minput_shape\u001b[0m\u001b[0;34m=\u001b[0m\u001b[0;34m(\u001b[0m\u001b[0;36m784\u001b[0m\u001b[0;34m,\u001b[0m\u001b[0;34m)\u001b[0m\u001b[0;34m)\u001b[0m \u001b[0;34m)\u001b[0m \u001b[0;31m#adding the first layer (a dense layer sith 512 neurons)\u001b[0m\u001b[0;34m\u001b[0m\u001b[0;34m\u001b[0m\u001b[0m\n\u001b[0;32m----> 3\u001b[0;31m \u001b[0mmodel\u001b[0m\u001b[0;34m.\u001b[0m\u001b[0madd\u001b[0m\u001b[0;34m(\u001b[0m\u001b[0mDense\u001b[0m\u001b[0;34m(\u001b[0m\u001b[0mnum_classes\u001b[0m\u001b[0;34m,\u001b[0m \u001b[0mactivation\u001b[0m\u001b[0;34m=\u001b[0m\u001b[0;34m'softmax'\u001b[0m\u001b[0;34m)\u001b[0m \u001b[0;34m)\u001b[0m\u001b[0;34m\u001b[0m\u001b[0;34m\u001b[0m\u001b[0m\n\u001b[0m\u001b[1;32m      4\u001b[0m \u001b[0mmodel\u001b[0m\u001b[0;34m.\u001b[0m\u001b[0msummary\u001b[0m\u001b[0;34m(\u001b[0m\u001b[0;34m)\u001b[0m\u001b[0;34m\u001b[0m\u001b[0;34m\u001b[0m\u001b[0m\n\u001b[1;32m      5\u001b[0m model.compile(loss='categorical_crossentropy',\n",
            "\u001b[0;31mNameError\u001b[0m: name 'num_classes' is not defined"
          ]
        }
      ]
    }
  ]
}